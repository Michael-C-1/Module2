{
  "nbformat": 4,
  "nbformat_minor": 0,
  "metadata": {
    "colab": {
      "name": "Module2.ipynb",
      "provenance": []
    },
    "kernelspec": {
      "name": "python3",
      "display_name": "Python 3"
    }
  },
  "cells": [
    {
      "cell_type": "markdown",
      "metadata": {
        "id": "aMv3mqUm2G7C",
        "colab_type": "text"
      },
      "source": [
        "#About Me\n",
        "My name is **Michael Campbell**. Something *interesting* about me is that I like reading and have 3 cats."
      ]
    }
  ]
}